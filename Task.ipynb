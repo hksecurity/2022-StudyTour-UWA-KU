{
 "cells": [
  {
   "cell_type": "code",
   "execution_count": 4,
   "id": "ab464aff",
   "metadata": {},
   "outputs": [],
   "source": [
    "import pandas as pd\n",
    "from sklearn.metrics import confusion_matrix, classification_report\n",
    "\n",
    "def load_dataset(path):\n",
    "    # parse the dataset\n",
    "    df = pd.read_csv(path)\n",
    "\n",
    "    ################ distilled from notebook 0 ################\n",
    "    # check the integrity\n",
    "    assert df.isna().any().any() == False, 'There is at least one missing value.'\n",
    "    assert df['Timestamp'].is_monotonic_increasing, 'Timestamp is not sorted.'\n",
    "\n",
    "    # type-cast\n",
    "    df['abstime'] = pd.to_datetime(df['Timestamp'], unit='s').round('us')\n",
    "    df['monotime'] = df['Timestamp'] - df['Timestamp'].min()\n",
    "    df['aid_int'] = df['Arbitration_ID'].map(lambda x: int(x, 16))\n",
    "    df['y'] = df['Class'].map({'Normal': 0, 'Attack': 1})\n",
    "\n",
    "    ################ distilled from notebook 1 ################\n",
    "    # calculate the stream-wise timedelta\n",
    "    df['Timedelta'] = df.groupby('Arbitration_ID')['Timestamp'].diff()\n",
    "\n",
    "    return df\n",
    "\n",
    "\n",
    "df_submit1 = load_dataset('0_Preliminary/1_Submission/Pre_submit_D.csv')\n",
    "df_submit2 = load_dataset('0_Preliminary/1_Submission/Pre_submit_S.csv')"
   ]
  },
  {
   "cell_type": "markdown",
   "id": "a3f986bc",
   "metadata": {},
   "source": [
    "Implement the `detect()` function. Then, submit the source in a text format (*.txt, *.py). You can download the Python file by menu `File - Download as - Python`."
   ]
  },
  {
   "cell_type": "code",
   "execution_count": 9,
   "id": "d361ce2a",
   "metadata": {},
   "outputs": [
    {
     "name": "stdout",
     "output_type": "stream",
     "text": [
      "Pre_submit_D.csv\n",
      "[[39977     0]\n",
      " [34810     0]]\n",
      "              precision    recall  f1-score   support\n",
      "\n",
      "           0       0.53      1.00      0.70     39977\n",
      "           1       0.00      0.00      0.00     34810\n",
      "\n",
      "    accuracy                           0.53     74787\n",
      "   macro avg       0.27      0.50      0.35     74787\n",
      "weighted avg       0.29      0.53      0.37     74787\n",
      "\n",
      "Pre_submit_S.csv\n",
      "[[33953     0]\n",
      " [30912     0]]\n",
      "              precision    recall  f1-score   support\n",
      "\n",
      "           0       0.52      1.00      0.69     33953\n",
      "           1       0.00      0.00      0.00     30912\n",
      "\n",
      "    accuracy                           0.52     64865\n",
      "   macro avg       0.26      0.50      0.34     64865\n",
      "weighted avg       0.27      0.52      0.36     64865\n",
      "\n"
     ]
    }
   ],
   "source": [
    "def detect(df):\n",
    "    df = df.copy()\n",
    "    df['y_predicted'] = 0\n",
    "    \n",
    "    ########## implement your detection routine here ##########\n",
    "    \n",
    "\n",
    "    \n",
    "    \n",
    "    \n",
    "    ###########################################################\n",
    "    \n",
    "    abstime_ceil = df['abstime'].dt.ceil('10ms')\n",
    "    y = df.groupby(abstime_ceil)['y'].max()\n",
    "    y_predicted = df.groupby(abstime_ceil)['y_predicted'].max()\n",
    "    return y, y_predicted\n",
    "    \n",
    "    \n",
    "\n",
    "\n",
    "y, y_predicted = detect(df_submit1)\n",
    "print('Pre_submit_D.csv')\n",
    "print(confusion_matrix(y, y_predicted))\n",
    "print(classification_report(y, y_predicted, zero_division=0))\n",
    "\n",
    "y, y_predicted = detect(df_submit2)\n",
    "print('Pre_submit_S.csv')\n",
    "print(confusion_matrix(y, y_predicted))\n",
    "print(classification_report(y, y_predicted, zero_division=0))"
   ]
  },
  {
   "cell_type": "code",
   "execution_count": null,
   "id": "edef9568",
   "metadata": {},
   "outputs": [],
   "source": []
  }
 ],
 "metadata": {
  "kernelspec": {
   "display_name": "Python 3 (ipykernel)",
   "language": "python",
   "name": "python3"
  },
  "language_info": {
   "codemirror_mode": {
    "name": "ipython",
    "version": 3
   },
   "file_extension": ".py",
   "mimetype": "text/x-python",
   "name": "python",
   "nbconvert_exporter": "python",
   "pygments_lexer": "ipython3",
   "version": "3.10.6"
  }
 },
 "nbformat": 4,
 "nbformat_minor": 5
}
