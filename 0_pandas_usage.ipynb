{
 "cells": [
  {
   "cell_type": "markdown",
   "source": [
    "In this notebook, we overview the usage of Pandas.\n",
    "\n",
    "# Load the dataset"
   ],
   "metadata": {
    "collapsed": false
   }
  },
  {
   "cell_type": "code",
   "execution_count": 1,
   "metadata": {
    "collapsed": true
   },
   "outputs": [
    {
     "data": {
      "text/plain": "           Timestamp Arbitration_ID  DLC                     Data   Class  \\\n0       1.597760e+09            153    8  20 A1 10 FF 00 FF 50 1F  Normal   \n1       1.597760e+09            220    8  13 24 7F 60 05 FF BF 10  Normal   \n2       1.597760e+09            507    4              08 00 00 01  Normal   \n3       1.597760e+09            356    8  00 00 00 80 16 00 00 00  Normal   \n4       1.597760e+09            340    8  FC 03 00 E4 B7 21 FA 3C  Normal   \n...              ...            ...  ...                      ...     ...   \n806385  1.597760e+09            366    7     3B 28 0B 3B 30 00 01  Normal   \n806386  1.597760e+09            367    8  00 00 00 00 05 00 00 00  Normal   \n806387  1.597760e+09            368    8  00 00 00 00 01 28 0B 42  Normal   \n806388  1.597760e+09            47F    8  04 7F FF FF 00 7B 00 26  Normal   \n806389  1.597760e+09            4C9    8  00 00 00 00 00 00 00 00  Normal   \n\n       SubClass  \n0        Normal  \n1        Normal  \n2        Normal  \n3        Normal  \n4        Normal  \n...         ...  \n806385   Normal  \n806386   Normal  \n806387   Normal  \n806388   Normal  \n806389   Normal  \n\n[806390 rows x 6 columns]",
      "text/html": "<div>\n<style scoped>\n    .dataframe tbody tr th:only-of-type {\n        vertical-align: middle;\n    }\n\n    .dataframe tbody tr th {\n        vertical-align: top;\n    }\n\n    .dataframe thead th {\n        text-align: right;\n    }\n</style>\n<table border=\"1\" class=\"dataframe\">\n  <thead>\n    <tr style=\"text-align: right;\">\n      <th></th>\n      <th>Timestamp</th>\n      <th>Arbitration_ID</th>\n      <th>DLC</th>\n      <th>Data</th>\n      <th>Class</th>\n      <th>SubClass</th>\n    </tr>\n  </thead>\n  <tbody>\n    <tr>\n      <th>0</th>\n      <td>1.597760e+09</td>\n      <td>153</td>\n      <td>8</td>\n      <td>20 A1 10 FF 00 FF 50 1F</td>\n      <td>Normal</td>\n      <td>Normal</td>\n    </tr>\n    <tr>\n      <th>1</th>\n      <td>1.597760e+09</td>\n      <td>220</td>\n      <td>8</td>\n      <td>13 24 7F 60 05 FF BF 10</td>\n      <td>Normal</td>\n      <td>Normal</td>\n    </tr>\n    <tr>\n      <th>2</th>\n      <td>1.597760e+09</td>\n      <td>507</td>\n      <td>4</td>\n      <td>08 00 00 01</td>\n      <td>Normal</td>\n      <td>Normal</td>\n    </tr>\n    <tr>\n      <th>3</th>\n      <td>1.597760e+09</td>\n      <td>356</td>\n      <td>8</td>\n      <td>00 00 00 80 16 00 00 00</td>\n      <td>Normal</td>\n      <td>Normal</td>\n    </tr>\n    <tr>\n      <th>4</th>\n      <td>1.597760e+09</td>\n      <td>340</td>\n      <td>8</td>\n      <td>FC 03 00 E4 B7 21 FA 3C</td>\n      <td>Normal</td>\n      <td>Normal</td>\n    </tr>\n    <tr>\n      <th>...</th>\n      <td>...</td>\n      <td>...</td>\n      <td>...</td>\n      <td>...</td>\n      <td>...</td>\n      <td>...</td>\n    </tr>\n    <tr>\n      <th>806385</th>\n      <td>1.597760e+09</td>\n      <td>366</td>\n      <td>7</td>\n      <td>3B 28 0B 3B 30 00 01</td>\n      <td>Normal</td>\n      <td>Normal</td>\n    </tr>\n    <tr>\n      <th>806386</th>\n      <td>1.597760e+09</td>\n      <td>367</td>\n      <td>8</td>\n      <td>00 00 00 00 05 00 00 00</td>\n      <td>Normal</td>\n      <td>Normal</td>\n    </tr>\n    <tr>\n      <th>806387</th>\n      <td>1.597760e+09</td>\n      <td>368</td>\n      <td>8</td>\n      <td>00 00 00 00 01 28 0B 42</td>\n      <td>Normal</td>\n      <td>Normal</td>\n    </tr>\n    <tr>\n      <th>806388</th>\n      <td>1.597760e+09</td>\n      <td>47F</td>\n      <td>8</td>\n      <td>04 7F FF FF 00 7B 00 26</td>\n      <td>Normal</td>\n      <td>Normal</td>\n    </tr>\n    <tr>\n      <th>806389</th>\n      <td>1.597760e+09</td>\n      <td>4C9</td>\n      <td>8</td>\n      <td>00 00 00 00 00 00 00 00</td>\n      <td>Normal</td>\n      <td>Normal</td>\n    </tr>\n  </tbody>\n</table>\n<p>806390 rows × 6 columns</p>\n</div>"
     },
     "execution_count": 1,
     "metadata": {},
     "output_type": "execute_result"
    }
   ],
   "source": [
    "import pandas as pd\n",
    "\n",
    "df = pd.read_csv('0_Preliminary/0_Training/Pre_train_D_1.csv')\n",
    "df"
   ]
  },
  {
   "cell_type": "markdown",
   "source": [
    "# Pandas usage: how to access the data\n",
    "## Terms (Pandas class)\n",
    "- [DataFrame](https://pandas.pydata.org/docs/reference/api/pandas.DataFrame.html): a Pandas class representing a table (2D array)\n",
    "- [Series](https://pandas.pydata.org/docs/reference/api/pandas.Series.html): a Pandas class representing an 1D array\n",
    "\n",
    "### DataFrame\n",
    "- Case 1. Access a column: **`df[COL_IDX]`**, `df.loc[, COL_IDX]` -> It returns a *Series*.\n",
    "- Case 2. Access a row: **`df.loc[ROW_IDX]`**, `df.loc[ROW_IDX, ]`  -> It returns a *Series*.\n",
    "- Case 3: Access an element: `df.loc[ROW_IDX, COL_IDX]` -> It returns a *value*.\n",
    "\n",
    "\n",
    "### Series\n",
    "Just consider it a Python list: `series[IDX]`\n",
    "\n",
    "[Pandas user guide: Indexing and selecting data](https://pandas.pydata.org/docs/user_guide/indexing.html)"
   ],
   "metadata": {
    "collapsed": false
   }
  },
  {
   "cell_type": "code",
   "execution_count": 2,
   "outputs": [
    {
     "data": {
      "text/plain": "0         Normal\n1         Normal\n2         Normal\n3         Normal\n4         Normal\n           ...  \n806385    Normal\n806386    Normal\n806387    Normal\n806388    Normal\n806389    Normal\nName: Class, Length: 806390, dtype: object"
     },
     "execution_count": 2,
     "metadata": {},
     "output_type": "execute_result"
    }
   ],
   "source": [
    "df['Class']  # column"
   ],
   "metadata": {
    "collapsed": false
   }
  },
  {
   "cell_type": "code",
   "execution_count": 3,
   "outputs": [
    {
     "data": {
      "text/plain": "Timestamp         1597759710.12631\nArbitration_ID                 507\nDLC                              4\nData                   08 00 00 01\nClass                       Normal\nSubClass                    Normal\nName: 2, dtype: object"
     },
     "execution_count": 3,
     "metadata": {},
     "output_type": "execute_result"
    }
   ],
   "source": [
    "df.loc[2]  # row"
   ],
   "metadata": {
    "collapsed": false
   }
  },
  {
   "cell_type": "code",
   "execution_count": 4,
   "outputs": [
    {
     "data": {
      "text/plain": "      Timestamp Arbitration_ID  DLC                     Data   Class SubClass\n2  1.597760e+09            507    4              08 00 00 01  Normal   Normal\n3  1.597760e+09            356    8  00 00 00 80 16 00 00 00  Normal   Normal\n4  1.597760e+09            340    8  FC 03 00 E4 B7 21 FA 3C  Normal   Normal",
      "text/html": "<div>\n<style scoped>\n    .dataframe tbody tr th:only-of-type {\n        vertical-align: middle;\n    }\n\n    .dataframe tbody tr th {\n        vertical-align: top;\n    }\n\n    .dataframe thead th {\n        text-align: right;\n    }\n</style>\n<table border=\"1\" class=\"dataframe\">\n  <thead>\n    <tr style=\"text-align: right;\">\n      <th></th>\n      <th>Timestamp</th>\n      <th>Arbitration_ID</th>\n      <th>DLC</th>\n      <th>Data</th>\n      <th>Class</th>\n      <th>SubClass</th>\n    </tr>\n  </thead>\n  <tbody>\n    <tr>\n      <th>2</th>\n      <td>1.597760e+09</td>\n      <td>507</td>\n      <td>4</td>\n      <td>08 00 00 01</td>\n      <td>Normal</td>\n      <td>Normal</td>\n    </tr>\n    <tr>\n      <th>3</th>\n      <td>1.597760e+09</td>\n      <td>356</td>\n      <td>8</td>\n      <td>00 00 00 80 16 00 00 00</td>\n      <td>Normal</td>\n      <td>Normal</td>\n    </tr>\n    <tr>\n      <th>4</th>\n      <td>1.597760e+09</td>\n      <td>340</td>\n      <td>8</td>\n      <td>FC 03 00 E4 B7 21 FA 3C</td>\n      <td>Normal</td>\n      <td>Normal</td>\n    </tr>\n  </tbody>\n</table>\n</div>"
     },
     "execution_count": 4,
     "metadata": {},
     "output_type": "execute_result"
    }
   ],
   "source": [
    "df.loc[2:4]  # rows (slicing)"
   ],
   "metadata": {
    "collapsed": false
   }
  },
  {
   "cell_type": "code",
   "execution_count": 5,
   "outputs": [
    {
     "data": {
      "text/plain": "          Timestamp Arbitration_ID  DLC                     Data   Class  \\\n2      1.597760e+09            507    4              08 00 00 01  Normal   \n4      1.597760e+09            340    8  FC 03 00 E4 B7 21 FA 3C  Normal   \n8      1.597760e+09            470    8  15 41 01 04 54 50 54 B9  Normal   \n16     1.597760e+09            140    8  E0 7F 00 6F 20 00 02 0F  Normal   \n30000  1.597760e+09            140    8  6C 81 00 6F 20 00 02 5A  Normal   \n\n      SubClass  \n2       Normal  \n4       Normal  \n8       Normal  \n16      Normal  \n30000   Normal  ",
      "text/html": "<div>\n<style scoped>\n    .dataframe tbody tr th:only-of-type {\n        vertical-align: middle;\n    }\n\n    .dataframe tbody tr th {\n        vertical-align: top;\n    }\n\n    .dataframe thead th {\n        text-align: right;\n    }\n</style>\n<table border=\"1\" class=\"dataframe\">\n  <thead>\n    <tr style=\"text-align: right;\">\n      <th></th>\n      <th>Timestamp</th>\n      <th>Arbitration_ID</th>\n      <th>DLC</th>\n      <th>Data</th>\n      <th>Class</th>\n      <th>SubClass</th>\n    </tr>\n  </thead>\n  <tbody>\n    <tr>\n      <th>2</th>\n      <td>1.597760e+09</td>\n      <td>507</td>\n      <td>4</td>\n      <td>08 00 00 01</td>\n      <td>Normal</td>\n      <td>Normal</td>\n    </tr>\n    <tr>\n      <th>4</th>\n      <td>1.597760e+09</td>\n      <td>340</td>\n      <td>8</td>\n      <td>FC 03 00 E4 B7 21 FA 3C</td>\n      <td>Normal</td>\n      <td>Normal</td>\n    </tr>\n    <tr>\n      <th>8</th>\n      <td>1.597760e+09</td>\n      <td>470</td>\n      <td>8</td>\n      <td>15 41 01 04 54 50 54 B9</td>\n      <td>Normal</td>\n      <td>Normal</td>\n    </tr>\n    <tr>\n      <th>16</th>\n      <td>1.597760e+09</td>\n      <td>140</td>\n      <td>8</td>\n      <td>E0 7F 00 6F 20 00 02 0F</td>\n      <td>Normal</td>\n      <td>Normal</td>\n    </tr>\n    <tr>\n      <th>30000</th>\n      <td>1.597760e+09</td>\n      <td>140</td>\n      <td>8</td>\n      <td>6C 81 00 6F 20 00 02 5A</td>\n      <td>Normal</td>\n      <td>Normal</td>\n    </tr>\n  </tbody>\n</table>\n</div>"
     },
     "execution_count": 5,
     "metadata": {},
     "output_type": "execute_result"
    }
   ],
   "source": [
    "df.loc[[2, 4, 8, 16, 30000]]  # rows (with specific indices)"
   ],
   "metadata": {
    "collapsed": false
   }
  },
  {
   "cell_type": "code",
   "execution_count": 6,
   "outputs": [
    {
     "data": {
      "text/plain": "'08 00 00 01'"
     },
     "execution_count": 6,
     "metadata": {},
     "output_type": "execute_result"
    }
   ],
   "source": [
    "df.loc[2, 'Data']  # element"
   ],
   "metadata": {
    "collapsed": false
   }
  },
  {
   "cell_type": "code",
   "execution_count": 7,
   "outputs": [
    {
     "name": "stdout",
     "output_type": "stream",
     "text": [
      "08 00 00 01\n",
      "08 00 00 01\n",
      "08 00 00 01\n"
     ]
    }
   ],
   "source": [
    "# three ways to access the element at row 2 and col `Data`\n",
    "print(df['Data'][2])\n",
    "print(df.loc[2]['Data'])\n",
    "print(df.loc[2, 'Data'])"
   ],
   "metadata": {
    "collapsed": false
   }
  },
  {
   "cell_type": "code",
   "execution_count": 8,
   "outputs": [
    {
     "data": {
      "text/plain": "(806390, 6)"
     },
     "execution_count": 8,
     "metadata": {},
     "output_type": "execute_result"
    }
   ],
   "source": [
    "df.shape  # the number of rows and columns"
   ],
   "metadata": {
    "collapsed": false
   }
  },
  {
   "cell_type": "markdown",
   "source": [
    "## Conditional indexing\n",
    "\n",
    "The code below works but do not evaluate row by row because it is inefficient.\n",
    "```python\n",
    "output = list()\n",
    "for rowidx, row in df.iterrows():\n",
    "    if row['DLC'] != 8:\n",
    "        output.append(row)\n",
    "\n",
    "len(output)\n",
    "```"
   ],
   "metadata": {
    "collapsed": false
   }
  },
  {
   "cell_type": "code",
   "execution_count": 9,
   "outputs": [
    {
     "data": {
      "text/plain": "0         False\n1         False\n2          True\n3         False\n4         False\n          ...  \n806385     True\n806386    False\n806387    False\n806388    False\n806389    False\nName: DLC, Length: 806390, dtype: bool"
     },
     "execution_count": 9,
     "metadata": {},
     "output_type": "execute_result"
    }
   ],
   "source": [
    "df['DLC'] != 8  # returns a series of booleans"
   ],
   "metadata": {
    "collapsed": false
   }
  },
  {
   "cell_type": "code",
   "execution_count": 10,
   "outputs": [
    {
     "data": {
      "text/plain": "           Timestamp Arbitration_ID  DLC                  Data   Class  \\\n2       1.597760e+09            507    4           08 00 00 01  Normal   \n5       1.597760e+09            366    7  33 B0 0A 33 30 00 01  Normal   \n9       1.597760e+09            453    5        00 88 8B 00 C1  Normal   \n10      1.597760e+09            485    4           03 00 00 00  Normal   \n13      1.597760e+09            164    4           00 08 1F DD  Normal   \n...              ...            ...  ...                   ...     ...   \n806361  1.597760e+09            436    4           00 00 00 04  Normal   \n806362  1.597760e+09            453    5        00 88 8E 00 69  Normal   \n806367  1.597760e+09            164    4           00 08 07 F8  Normal   \n806371  1.597760e+09            2B0    6     5B 00 00 07 2B 19  Normal   \n806385  1.597760e+09            366    7  3B 28 0B 3B 30 00 01  Normal   \n\n       SubClass  \n2        Normal  \n5        Normal  \n9        Normal  \n10       Normal  \n13       Normal  \n...         ...  \n806361   Normal  \n806362   Normal  \n806367   Normal  \n806371   Normal  \n806385   Normal  \n\n[142534 rows x 6 columns]",
      "text/html": "<div>\n<style scoped>\n    .dataframe tbody tr th:only-of-type {\n        vertical-align: middle;\n    }\n\n    .dataframe tbody tr th {\n        vertical-align: top;\n    }\n\n    .dataframe thead th {\n        text-align: right;\n    }\n</style>\n<table border=\"1\" class=\"dataframe\">\n  <thead>\n    <tr style=\"text-align: right;\">\n      <th></th>\n      <th>Timestamp</th>\n      <th>Arbitration_ID</th>\n      <th>DLC</th>\n      <th>Data</th>\n      <th>Class</th>\n      <th>SubClass</th>\n    </tr>\n  </thead>\n  <tbody>\n    <tr>\n      <th>2</th>\n      <td>1.597760e+09</td>\n      <td>507</td>\n      <td>4</td>\n      <td>08 00 00 01</td>\n      <td>Normal</td>\n      <td>Normal</td>\n    </tr>\n    <tr>\n      <th>5</th>\n      <td>1.597760e+09</td>\n      <td>366</td>\n      <td>7</td>\n      <td>33 B0 0A 33 30 00 01</td>\n      <td>Normal</td>\n      <td>Normal</td>\n    </tr>\n    <tr>\n      <th>9</th>\n      <td>1.597760e+09</td>\n      <td>453</td>\n      <td>5</td>\n      <td>00 88 8B 00 C1</td>\n      <td>Normal</td>\n      <td>Normal</td>\n    </tr>\n    <tr>\n      <th>10</th>\n      <td>1.597760e+09</td>\n      <td>485</td>\n      <td>4</td>\n      <td>03 00 00 00</td>\n      <td>Normal</td>\n      <td>Normal</td>\n    </tr>\n    <tr>\n      <th>13</th>\n      <td>1.597760e+09</td>\n      <td>164</td>\n      <td>4</td>\n      <td>00 08 1F DD</td>\n      <td>Normal</td>\n      <td>Normal</td>\n    </tr>\n    <tr>\n      <th>...</th>\n      <td>...</td>\n      <td>...</td>\n      <td>...</td>\n      <td>...</td>\n      <td>...</td>\n      <td>...</td>\n    </tr>\n    <tr>\n      <th>806361</th>\n      <td>1.597760e+09</td>\n      <td>436</td>\n      <td>4</td>\n      <td>00 00 00 04</td>\n      <td>Normal</td>\n      <td>Normal</td>\n    </tr>\n    <tr>\n      <th>806362</th>\n      <td>1.597760e+09</td>\n      <td>453</td>\n      <td>5</td>\n      <td>00 88 8E 00 69</td>\n      <td>Normal</td>\n      <td>Normal</td>\n    </tr>\n    <tr>\n      <th>806367</th>\n      <td>1.597760e+09</td>\n      <td>164</td>\n      <td>4</td>\n      <td>00 08 07 F8</td>\n      <td>Normal</td>\n      <td>Normal</td>\n    </tr>\n    <tr>\n      <th>806371</th>\n      <td>1.597760e+09</td>\n      <td>2B0</td>\n      <td>6</td>\n      <td>5B 00 00 07 2B 19</td>\n      <td>Normal</td>\n      <td>Normal</td>\n    </tr>\n    <tr>\n      <th>806385</th>\n      <td>1.597760e+09</td>\n      <td>366</td>\n      <td>7</td>\n      <td>3B 28 0B 3B 30 00 01</td>\n      <td>Normal</td>\n      <td>Normal</td>\n    </tr>\n  </tbody>\n</table>\n<p>142534 rows × 6 columns</p>\n</div>"
     },
     "execution_count": 10,
     "metadata": {},
     "output_type": "execute_result"
    }
   ],
   "source": [
    "df2 = df[df['DLC'] != 8]  # select rows by booleans\n",
    "df2"
   ],
   "metadata": {
    "collapsed": false
   }
  },
  {
   "cell_type": "code",
   "execution_count": 11,
   "outputs": [
    {
     "data": {
      "text/plain": "           Timestamp Arbitration_ID  DLC                  Data   Class  \\\n2       1.597760e+09            507    4           08 00 00 01  Normal   \n5       1.597760e+09            366    7  33 B0 0A 33 30 00 01  Normal   \n9       1.597760e+09            453    5        00 88 8B 00 C1  Normal   \n10      1.597760e+09            485    4           03 00 00 00  Normal   \n13      1.597760e+09            164    4           00 08 1F DD  Normal   \n...              ...            ...  ...                   ...     ...   \n806361  1.597760e+09            436    4           00 00 00 04  Normal   \n806362  1.597760e+09            453    5        00 88 8E 00 69  Normal   \n806367  1.597760e+09            164    4           00 08 07 F8  Normal   \n806371  1.597760e+09            2B0    6     5B 00 00 07 2B 19  Normal   \n806385  1.597760e+09            366    7  3B 28 0B 3B 30 00 01  Normal   \n\n       SubClass  \n2        Normal  \n5        Normal  \n9        Normal  \n10       Normal  \n13       Normal  \n...         ...  \n806361   Normal  \n806362   Normal  \n806367   Normal  \n806371   Normal  \n806385   Normal  \n\n[142534 rows x 6 columns]",
      "text/html": "<div>\n<style scoped>\n    .dataframe tbody tr th:only-of-type {\n        vertical-align: middle;\n    }\n\n    .dataframe tbody tr th {\n        vertical-align: top;\n    }\n\n    .dataframe thead th {\n        text-align: right;\n    }\n</style>\n<table border=\"1\" class=\"dataframe\">\n  <thead>\n    <tr style=\"text-align: right;\">\n      <th></th>\n      <th>Timestamp</th>\n      <th>Arbitration_ID</th>\n      <th>DLC</th>\n      <th>Data</th>\n      <th>Class</th>\n      <th>SubClass</th>\n    </tr>\n  </thead>\n  <tbody>\n    <tr>\n      <th>2</th>\n      <td>1.597760e+09</td>\n      <td>507</td>\n      <td>4</td>\n      <td>08 00 00 01</td>\n      <td>Normal</td>\n      <td>Normal</td>\n    </tr>\n    <tr>\n      <th>5</th>\n      <td>1.597760e+09</td>\n      <td>366</td>\n      <td>7</td>\n      <td>33 B0 0A 33 30 00 01</td>\n      <td>Normal</td>\n      <td>Normal</td>\n    </tr>\n    <tr>\n      <th>9</th>\n      <td>1.597760e+09</td>\n      <td>453</td>\n      <td>5</td>\n      <td>00 88 8B 00 C1</td>\n      <td>Normal</td>\n      <td>Normal</td>\n    </tr>\n    <tr>\n      <th>10</th>\n      <td>1.597760e+09</td>\n      <td>485</td>\n      <td>4</td>\n      <td>03 00 00 00</td>\n      <td>Normal</td>\n      <td>Normal</td>\n    </tr>\n    <tr>\n      <th>13</th>\n      <td>1.597760e+09</td>\n      <td>164</td>\n      <td>4</td>\n      <td>00 08 1F DD</td>\n      <td>Normal</td>\n      <td>Normal</td>\n    </tr>\n    <tr>\n      <th>...</th>\n      <td>...</td>\n      <td>...</td>\n      <td>...</td>\n      <td>...</td>\n      <td>...</td>\n      <td>...</td>\n    </tr>\n    <tr>\n      <th>806361</th>\n      <td>1.597760e+09</td>\n      <td>436</td>\n      <td>4</td>\n      <td>00 00 00 04</td>\n      <td>Normal</td>\n      <td>Normal</td>\n    </tr>\n    <tr>\n      <th>806362</th>\n      <td>1.597760e+09</td>\n      <td>453</td>\n      <td>5</td>\n      <td>00 88 8E 00 69</td>\n      <td>Normal</td>\n      <td>Normal</td>\n    </tr>\n    <tr>\n      <th>806367</th>\n      <td>1.597760e+09</td>\n      <td>164</td>\n      <td>4</td>\n      <td>00 08 07 F8</td>\n      <td>Normal</td>\n      <td>Normal</td>\n    </tr>\n    <tr>\n      <th>806371</th>\n      <td>1.597760e+09</td>\n      <td>2B0</td>\n      <td>6</td>\n      <td>5B 00 00 07 2B 19</td>\n      <td>Normal</td>\n      <td>Normal</td>\n    </tr>\n    <tr>\n      <th>806385</th>\n      <td>1.597760e+09</td>\n      <td>366</td>\n      <td>7</td>\n      <td>3B 28 0B 3B 30 00 01</td>\n      <td>Normal</td>\n      <td>Normal</td>\n    </tr>\n  </tbody>\n</table>\n<p>142534 rows × 6 columns</p>\n</div>"
     },
     "execution_count": 11,
     "metadata": {},
     "output_type": "execute_result"
    }
   ],
   "source": [
    "df2 = df.query('DLC != 8')  # df.query() -> another convenient way\n",
    "df2"
   ],
   "metadata": {
    "collapsed": false
   }
  },
  {
   "cell_type": "code",
   "execution_count": 12,
   "outputs": [
    {
     "data": {
      "text/plain": "           Timestamp Arbitration_ID  DLC               Data   Class SubClass\n2       1.597760e+09            507    4        08 00 00 01  Normal   Normal\n10      1.597760e+09            485    4        03 00 00 00  Normal   Normal\n13      1.597760e+09            164    4        00 08 1F DD  Normal   Normal\n18      1.597760e+09            2B0    6  D4 FF 00 07 97 10  Normal   Normal\n37      1.597760e+09            164    4        00 08 01 B6  Normal   Normal\n...              ...            ...  ...                ...     ...      ...\n806348  1.597760e+09            2B0    6  5B 00 00 07 3A C9  Normal   Normal\n806351  1.597760e+09            485    4        03 00 00 00  Normal   Normal\n806361  1.597760e+09            436    4        00 00 00 04  Normal   Normal\n806367  1.597760e+09            164    4        00 08 07 F8  Normal   Normal\n806371  1.597760e+09            2B0    6  5B 00 00 07 2B 19  Normal   Normal\n\n[94497 rows x 6 columns]",
      "text/html": "<div>\n<style scoped>\n    .dataframe tbody tr th:only-of-type {\n        vertical-align: middle;\n    }\n\n    .dataframe tbody tr th {\n        vertical-align: top;\n    }\n\n    .dataframe thead th {\n        text-align: right;\n    }\n</style>\n<table border=\"1\" class=\"dataframe\">\n  <thead>\n    <tr style=\"text-align: right;\">\n      <th></th>\n      <th>Timestamp</th>\n      <th>Arbitration_ID</th>\n      <th>DLC</th>\n      <th>Data</th>\n      <th>Class</th>\n      <th>SubClass</th>\n    </tr>\n  </thead>\n  <tbody>\n    <tr>\n      <th>2</th>\n      <td>1.597760e+09</td>\n      <td>507</td>\n      <td>4</td>\n      <td>08 00 00 01</td>\n      <td>Normal</td>\n      <td>Normal</td>\n    </tr>\n    <tr>\n      <th>10</th>\n      <td>1.597760e+09</td>\n      <td>485</td>\n      <td>4</td>\n      <td>03 00 00 00</td>\n      <td>Normal</td>\n      <td>Normal</td>\n    </tr>\n    <tr>\n      <th>13</th>\n      <td>1.597760e+09</td>\n      <td>164</td>\n      <td>4</td>\n      <td>00 08 1F DD</td>\n      <td>Normal</td>\n      <td>Normal</td>\n    </tr>\n    <tr>\n      <th>18</th>\n      <td>1.597760e+09</td>\n      <td>2B0</td>\n      <td>6</td>\n      <td>D4 FF 00 07 97 10</td>\n      <td>Normal</td>\n      <td>Normal</td>\n    </tr>\n    <tr>\n      <th>37</th>\n      <td>1.597760e+09</td>\n      <td>164</td>\n      <td>4</td>\n      <td>00 08 01 B6</td>\n      <td>Normal</td>\n      <td>Normal</td>\n    </tr>\n    <tr>\n      <th>...</th>\n      <td>...</td>\n      <td>...</td>\n      <td>...</td>\n      <td>...</td>\n      <td>...</td>\n      <td>...</td>\n    </tr>\n    <tr>\n      <th>806348</th>\n      <td>1.597760e+09</td>\n      <td>2B0</td>\n      <td>6</td>\n      <td>5B 00 00 07 3A C9</td>\n      <td>Normal</td>\n      <td>Normal</td>\n    </tr>\n    <tr>\n      <th>806351</th>\n      <td>1.597760e+09</td>\n      <td>485</td>\n      <td>4</td>\n      <td>03 00 00 00</td>\n      <td>Normal</td>\n      <td>Normal</td>\n    </tr>\n    <tr>\n      <th>806361</th>\n      <td>1.597760e+09</td>\n      <td>436</td>\n      <td>4</td>\n      <td>00 00 00 04</td>\n      <td>Normal</td>\n      <td>Normal</td>\n    </tr>\n    <tr>\n      <th>806367</th>\n      <td>1.597760e+09</td>\n      <td>164</td>\n      <td>4</td>\n      <td>00 08 07 F8</td>\n      <td>Normal</td>\n      <td>Normal</td>\n    </tr>\n    <tr>\n      <th>806371</th>\n      <td>1.597760e+09</td>\n      <td>2B0</td>\n      <td>6</td>\n      <td>5B 00 00 07 2B 19</td>\n      <td>Normal</td>\n      <td>Normal</td>\n    </tr>\n  </tbody>\n</table>\n<p>94497 rows × 6 columns</p>\n</div>"
     },
     "execution_count": 12,
     "metadata": {},
     "output_type": "execute_result"
    }
   ],
   "source": [
    "df2 = df.query('DLC in (4, 6)')  # df.query() supports the python expressions.\n",
    "df2"
   ],
   "metadata": {
    "collapsed": false
   }
  },
  {
   "cell_type": "markdown",
   "source": [
    "### condition chaining"
   ],
   "metadata": {
    "collapsed": false
   }
  },
  {
   "cell_type": "code",
   "execution_count": 13,
   "outputs": [
    {
     "data": {
      "text/plain": "           Timestamp Arbitration_ID  DLC                     Data   Class  \\\n190     1.597760e+09            391    8  00 00 00 00 00 00 08 EB  Normal   \n958     1.597760e+09            391    8  00 00 00 00 00 00 08 EB  Normal   \n1730    1.597760e+09            391    8  00 00 00 00 00 00 08 EB  Normal   \n2490    1.597760e+09            391    8  00 00 00 00 00 00 08 EB  Normal   \n3264    1.597760e+09            391    8  00 00 00 00 00 00 08 EB  Normal   \n...              ...            ...  ...                      ...     ...   \n802799  1.597760e+09            391    8  00 00 00 00 00 00 08 EB  Normal   \n803564  1.597760e+09            391    8  00 00 00 00 00 00 08 EB  Normal   \n804330  1.597760e+09            391    8  00 00 00 00 00 00 08 EB  Normal   \n805106  1.597760e+09            391    8  00 00 00 00 00 00 08 EB  Normal   \n805860  1.597760e+09            391    8  00 00 00 00 00 00 08 EB  Normal   \n\n       SubClass  \n190      Normal  \n958      Normal  \n1730     Normal  \n2490     Normal  \n3264     Normal  \n...         ...  \n802799   Normal  \n803564   Normal  \n804330   Normal  \n805106   Normal  \n805860   Normal  \n\n[966 rows x 6 columns]",
      "text/html": "<div>\n<style scoped>\n    .dataframe tbody tr th:only-of-type {\n        vertical-align: middle;\n    }\n\n    .dataframe tbody tr th {\n        vertical-align: top;\n    }\n\n    .dataframe thead th {\n        text-align: right;\n    }\n</style>\n<table border=\"1\" class=\"dataframe\">\n  <thead>\n    <tr style=\"text-align: right;\">\n      <th></th>\n      <th>Timestamp</th>\n      <th>Arbitration_ID</th>\n      <th>DLC</th>\n      <th>Data</th>\n      <th>Class</th>\n      <th>SubClass</th>\n    </tr>\n  </thead>\n  <tbody>\n    <tr>\n      <th>190</th>\n      <td>1.597760e+09</td>\n      <td>391</td>\n      <td>8</td>\n      <td>00 00 00 00 00 00 08 EB</td>\n      <td>Normal</td>\n      <td>Normal</td>\n    </tr>\n    <tr>\n      <th>958</th>\n      <td>1.597760e+09</td>\n      <td>391</td>\n      <td>8</td>\n      <td>00 00 00 00 00 00 08 EB</td>\n      <td>Normal</td>\n      <td>Normal</td>\n    </tr>\n    <tr>\n      <th>1730</th>\n      <td>1.597760e+09</td>\n      <td>391</td>\n      <td>8</td>\n      <td>00 00 00 00 00 00 08 EB</td>\n      <td>Normal</td>\n      <td>Normal</td>\n    </tr>\n    <tr>\n      <th>2490</th>\n      <td>1.597760e+09</td>\n      <td>391</td>\n      <td>8</td>\n      <td>00 00 00 00 00 00 08 EB</td>\n      <td>Normal</td>\n      <td>Normal</td>\n    </tr>\n    <tr>\n      <th>3264</th>\n      <td>1.597760e+09</td>\n      <td>391</td>\n      <td>8</td>\n      <td>00 00 00 00 00 00 08 EB</td>\n      <td>Normal</td>\n      <td>Normal</td>\n    </tr>\n    <tr>\n      <th>...</th>\n      <td>...</td>\n      <td>...</td>\n      <td>...</td>\n      <td>...</td>\n      <td>...</td>\n      <td>...</td>\n    </tr>\n    <tr>\n      <th>802799</th>\n      <td>1.597760e+09</td>\n      <td>391</td>\n      <td>8</td>\n      <td>00 00 00 00 00 00 08 EB</td>\n      <td>Normal</td>\n      <td>Normal</td>\n    </tr>\n    <tr>\n      <th>803564</th>\n      <td>1.597760e+09</td>\n      <td>391</td>\n      <td>8</td>\n      <td>00 00 00 00 00 00 08 EB</td>\n      <td>Normal</td>\n      <td>Normal</td>\n    </tr>\n    <tr>\n      <th>804330</th>\n      <td>1.597760e+09</td>\n      <td>391</td>\n      <td>8</td>\n      <td>00 00 00 00 00 00 08 EB</td>\n      <td>Normal</td>\n      <td>Normal</td>\n    </tr>\n    <tr>\n      <th>805106</th>\n      <td>1.597760e+09</td>\n      <td>391</td>\n      <td>8</td>\n      <td>00 00 00 00 00 00 08 EB</td>\n      <td>Normal</td>\n      <td>Normal</td>\n    </tr>\n    <tr>\n      <th>805860</th>\n      <td>1.597760e+09</td>\n      <td>391</td>\n      <td>8</td>\n      <td>00 00 00 00 00 00 08 EB</td>\n      <td>Normal</td>\n      <td>Normal</td>\n    </tr>\n  </tbody>\n</table>\n<p>966 rows × 6 columns</p>\n</div>"
     },
     "execution_count": 13,
     "metadata": {},
     "output_type": "execute_result"
    }
   ],
   "source": [
    "condition1 = (df['Data'] == \"00 00 00 00 00 00 08 EB\")\n",
    "condition2 = (df['Timestamp'] >= 50)\n",
    "df3 = df[condition1 & condition2]\n",
    "# df3 = df.query('Data == \"00 00 00 00 00 00 08 EB\" and Timestamp >= 50')\n",
    "df3"
   ],
   "metadata": {
    "collapsed": false
   }
  },
  {
   "cell_type": "markdown",
   "source": [
    "# Making sure the integrity of dataset\n",
    "\n",
    "## Q1. Is there any missing values (also known as NA or NaN)?"
   ],
   "metadata": {
    "collapsed": false
   }
  },
  {
   "cell_type": "code",
   "execution_count": 14,
   "outputs": [
    {
     "data": {
      "text/plain": "Timestamp         False\nArbitration_ID    False\nDLC               False\nData              False\nClass             False\nSubClass          False\ndtype: bool"
     },
     "execution_count": 14,
     "metadata": {},
     "output_type": "execute_result"
    }
   ],
   "source": [
    "df.isna().any()"
   ],
   "metadata": {
    "collapsed": false
   }
  },
  {
   "cell_type": "markdown",
   "source": [
    "## Q2. Are the CAN messages properly sorted by timestamp?"
   ],
   "metadata": {
    "collapsed": false
   }
  },
  {
   "cell_type": "code",
   "execution_count": 15,
   "outputs": [
    {
     "name": "stdout",
     "output_type": "stream",
     "text": [
      "[Case 1] The dataset is sorted by timestamp.\n",
      "[Case 2] The dataset is sorted by timestamp.\n"
     ]
    }
   ],
   "source": [
    "# case 1. manual iteration\n",
    "for i in range(len(df['Timestamp']) - 1):\n",
    "    if not (df.loc[i + 1, 'Timestamp'] > df.loc[i, 'Timestamp']):\n",
    "        print('[Case 1] Something went wrong.')\n",
    "        break\n",
    "else:\n",
    "    print('[Case 1] The dataset is sorted by timestamp.')\n",
    "\n",
    "# case 2. Pandas API\n",
    "is_sorted = df['Timestamp'].is_monotonic_increasing\n",
    "if sorted:\n",
    "    print('[Case 2] The dataset is sorted by timestamp.')\n",
    "else:\n",
    "    print('[Case 2] Something went wrong.')"
   ],
   "metadata": {
    "collapsed": false
   }
  },
  {
   "cell_type": "markdown",
   "source": [
    "## Q3. Is data pre-processing necessary?\n",
    "\n",
    "check the data type."
   ],
   "metadata": {
    "collapsed": false
   }
  },
  {
   "cell_type": "code",
   "execution_count": 16,
   "outputs": [
    {
     "name": "stdout",
     "output_type": "stream",
     "text": [
      "<class 'pandas.core.frame.DataFrame'>\n",
      "RangeIndex: 806390 entries, 0 to 806389\n",
      "Data columns (total 6 columns):\n",
      " #   Column          Non-Null Count   Dtype  \n",
      "---  ------          --------------   -----  \n",
      " 0   Timestamp       806390 non-null  float64\n",
      " 1   Arbitration_ID  806390 non-null  object \n",
      " 2   DLC             806390 non-null  int64  \n",
      " 3   Data            806390 non-null  object \n",
      " 4   Class           806390 non-null  object \n",
      " 5   SubClass        806390 non-null  object \n",
      "dtypes: float64(1), int64(1), object(4)\n",
      "memory usage: 36.9+ MB\n"
     ]
    }
   ],
   "source": [
    "df.info()"
   ],
   "metadata": {
    "collapsed": false
   }
  },
  {
   "cell_type": "markdown",
   "source": [
    "Two problems\n",
    "1. `Timestamp` is not straightforward.\n",
    "2. `Arbitration_ID` was supposed to be represented as an integer. But the data type is string (object)."
   ],
   "metadata": {
    "collapsed": false
   }
  },
  {
   "cell_type": "markdown",
   "source": [
    "### Timestamp\n",
    "We will make two new timestamp fields.\n",
    " - the absolute timestamp\n",
    " - the monotonic timestamp *starting with 0*"
   ],
   "metadata": {
    "collapsed": false
   }
  },
  {
   "cell_type": "code",
   "execution_count": 17,
   "outputs": [
    {
     "data": {
      "text/plain": "           Timestamp                    abstime    monotime\n0       1.597760e+09 2020-08-18 14:08:30.125893    0.000000\n1       1.597760e+09 2020-08-18 14:08:30.126151    0.000258\n2       1.597760e+09 2020-08-18 14:08:30.126310    0.000417\n3       1.597760e+09 2020-08-18 14:08:30.127247    0.001354\n4       1.597760e+09 2020-08-18 14:08:30.127480    0.001587\n...              ...                        ...         ...\n806385  1.597760e+09 2020-08-18 14:13:34.980384  304.854491\n806386  1.597760e+09 2020-08-18 14:13:34.980630  304.854737\n806387  1.597760e+09 2020-08-18 14:13:34.980872  304.854979\n806388  1.597760e+09 2020-08-18 14:13:34.981116  304.855223\n806389  1.597760e+09 2020-08-18 14:13:34.981364  304.855471\n\n[806390 rows x 3 columns]",
      "text/html": "<div>\n<style scoped>\n    .dataframe tbody tr th:only-of-type {\n        vertical-align: middle;\n    }\n\n    .dataframe tbody tr th {\n        vertical-align: top;\n    }\n\n    .dataframe thead th {\n        text-align: right;\n    }\n</style>\n<table border=\"1\" class=\"dataframe\">\n  <thead>\n    <tr style=\"text-align: right;\">\n      <th></th>\n      <th>Timestamp</th>\n      <th>abstime</th>\n      <th>monotime</th>\n    </tr>\n  </thead>\n  <tbody>\n    <tr>\n      <th>0</th>\n      <td>1.597760e+09</td>\n      <td>2020-08-18 14:08:30.125893</td>\n      <td>0.000000</td>\n    </tr>\n    <tr>\n      <th>1</th>\n      <td>1.597760e+09</td>\n      <td>2020-08-18 14:08:30.126151</td>\n      <td>0.000258</td>\n    </tr>\n    <tr>\n      <th>2</th>\n      <td>1.597760e+09</td>\n      <td>2020-08-18 14:08:30.126310</td>\n      <td>0.000417</td>\n    </tr>\n    <tr>\n      <th>3</th>\n      <td>1.597760e+09</td>\n      <td>2020-08-18 14:08:30.127247</td>\n      <td>0.001354</td>\n    </tr>\n    <tr>\n      <th>4</th>\n      <td>1.597760e+09</td>\n      <td>2020-08-18 14:08:30.127480</td>\n      <td>0.001587</td>\n    </tr>\n    <tr>\n      <th>...</th>\n      <td>...</td>\n      <td>...</td>\n      <td>...</td>\n    </tr>\n    <tr>\n      <th>806385</th>\n      <td>1.597760e+09</td>\n      <td>2020-08-18 14:13:34.980384</td>\n      <td>304.854491</td>\n    </tr>\n    <tr>\n      <th>806386</th>\n      <td>1.597760e+09</td>\n      <td>2020-08-18 14:13:34.980630</td>\n      <td>304.854737</td>\n    </tr>\n    <tr>\n      <th>806387</th>\n      <td>1.597760e+09</td>\n      <td>2020-08-18 14:13:34.980872</td>\n      <td>304.854979</td>\n    </tr>\n    <tr>\n      <th>806388</th>\n      <td>1.597760e+09</td>\n      <td>2020-08-18 14:13:34.981116</td>\n      <td>304.855223</td>\n    </tr>\n    <tr>\n      <th>806389</th>\n      <td>1.597760e+09</td>\n      <td>2020-08-18 14:13:34.981364</td>\n      <td>304.855471</td>\n    </tr>\n  </tbody>\n</table>\n<p>806390 rows × 3 columns</p>\n</div>"
     },
     "execution_count": 17,
     "metadata": {},
     "output_type": "execute_result"
    }
   ],
   "source": [
    "df['abstime'] = pd.to_datetime(df['Timestamp'], unit='s').round('us')\n",
    "df['monotime'] = df['Timestamp'] - df['Timestamp'].min()\n",
    "df[['Timestamp', 'abstime', 'monotime']]"
   ],
   "metadata": {
    "collapsed": false
   }
  },
  {
   "cell_type": "markdown",
   "source": [],
   "metadata": {
    "collapsed": false
   }
  },
  {
   "cell_type": "markdown",
   "source": [
    "### Arbitration_ID\n",
    "\n",
    "from hex-string to int"
   ],
   "metadata": {
    "collapsed": false
   }
  },
  {
   "cell_type": "code",
   "execution_count": 18,
   "outputs": [
    {
     "data": {
      "text/plain": "       Arbitration_ID  aid_int\n0                 153      339\n1                 220      544\n2                 507     1287\n3                 356      854\n4                 340      832\n...               ...      ...\n806385            366      870\n806386            367      871\n806387            368      872\n806388            47F     1151\n806389            4C9     1225\n\n[806390 rows x 2 columns]",
      "text/html": "<div>\n<style scoped>\n    .dataframe tbody tr th:only-of-type {\n        vertical-align: middle;\n    }\n\n    .dataframe tbody tr th {\n        vertical-align: top;\n    }\n\n    .dataframe thead th {\n        text-align: right;\n    }\n</style>\n<table border=\"1\" class=\"dataframe\">\n  <thead>\n    <tr style=\"text-align: right;\">\n      <th></th>\n      <th>Arbitration_ID</th>\n      <th>aid_int</th>\n    </tr>\n  </thead>\n  <tbody>\n    <tr>\n      <th>0</th>\n      <td>153</td>\n      <td>339</td>\n    </tr>\n    <tr>\n      <th>1</th>\n      <td>220</td>\n      <td>544</td>\n    </tr>\n    <tr>\n      <th>2</th>\n      <td>507</td>\n      <td>1287</td>\n    </tr>\n    <tr>\n      <th>3</th>\n      <td>356</td>\n      <td>854</td>\n    </tr>\n    <tr>\n      <th>4</th>\n      <td>340</td>\n      <td>832</td>\n    </tr>\n    <tr>\n      <th>...</th>\n      <td>...</td>\n      <td>...</td>\n    </tr>\n    <tr>\n      <th>806385</th>\n      <td>366</td>\n      <td>870</td>\n    </tr>\n    <tr>\n      <th>806386</th>\n      <td>367</td>\n      <td>871</td>\n    </tr>\n    <tr>\n      <th>806387</th>\n      <td>368</td>\n      <td>872</td>\n    </tr>\n    <tr>\n      <th>806388</th>\n      <td>47F</td>\n      <td>1151</td>\n    </tr>\n    <tr>\n      <th>806389</th>\n      <td>4C9</td>\n      <td>1225</td>\n    </tr>\n  </tbody>\n</table>\n<p>806390 rows × 2 columns</p>\n</div>"
     },
     "execution_count": 18,
     "metadata": {},
     "output_type": "execute_result"
    }
   ],
   "source": [
    "def func_hexstr_to_int(value):\n",
    "    return int(value, 16)\n",
    "\n",
    "\n",
    "df['aid_int'] = df['Arbitration_ID'].map(func_hexstr_to_int)  #\n",
    "df[['Arbitration_ID', 'aid_int']]"
   ],
   "metadata": {
    "collapsed": false
   }
  },
  {
   "cell_type": "code",
   "execution_count": 19,
   "outputs": [
    {
     "data": {
      "text/plain": "(608, 809, 909)"
     },
     "execution_count": 19,
     "metadata": {},
     "output_type": "execute_result"
    }
   ],
   "source": [
    "0x260, 0x329, 0x38d"
   ],
   "metadata": {
    "collapsed": false
   }
  },
  {
   "cell_type": "markdown",
   "source": [
    "### Class\n",
    "- 'Normal' -> 0\n",
    "- 'Attack' -> 1"
   ],
   "metadata": {
    "collapsed": false
   }
  },
  {
   "cell_type": "code",
   "execution_count": 20,
   "outputs": [
    {
     "data": {
      "text/plain": "Normal    733752\nAttack     72638\nName: Class, dtype: int64"
     },
     "execution_count": 20,
     "metadata": {},
     "output_type": "execute_result"
    }
   ],
   "source": [
    "df['Class'].value_counts()"
   ],
   "metadata": {
    "collapsed": false
   }
  },
  {
   "cell_type": "code",
   "execution_count": 21,
   "outputs": [
    {
     "data": {
      "text/plain": "         Class  y\n365300  Attack  1\n365301  Normal  0\n365302  Attack  1\n365303  Attack  1\n365304  Normal  0\n365305  Normal  0",
      "text/html": "<div>\n<style scoped>\n    .dataframe tbody tr th:only-of-type {\n        vertical-align: middle;\n    }\n\n    .dataframe tbody tr th {\n        vertical-align: top;\n    }\n\n    .dataframe thead th {\n        text-align: right;\n    }\n</style>\n<table border=\"1\" class=\"dataframe\">\n  <thead>\n    <tr style=\"text-align: right;\">\n      <th></th>\n      <th>Class</th>\n      <th>y</th>\n    </tr>\n  </thead>\n  <tbody>\n    <tr>\n      <th>365300</th>\n      <td>Attack</td>\n      <td>1</td>\n    </tr>\n    <tr>\n      <th>365301</th>\n      <td>Normal</td>\n      <td>0</td>\n    </tr>\n    <tr>\n      <th>365302</th>\n      <td>Attack</td>\n      <td>1</td>\n    </tr>\n    <tr>\n      <th>365303</th>\n      <td>Attack</td>\n      <td>1</td>\n    </tr>\n    <tr>\n      <th>365304</th>\n      <td>Normal</td>\n      <td>0</td>\n    </tr>\n    <tr>\n      <th>365305</th>\n      <td>Normal</td>\n      <td>0</td>\n    </tr>\n  </tbody>\n</table>\n</div>"
     },
     "execution_count": 21,
     "metadata": {},
     "output_type": "execute_result"
    }
   ],
   "source": [
    "dict_class = {'Normal': 0, 'Attack': 1}\n",
    "df['y'] = df['Class'].map(dict_class)\n",
    "df[['Class', 'y']].loc[365300:365300 + 5]"
   ],
   "metadata": {
    "collapsed": false
   }
  },
  {
   "cell_type": "code",
   "execution_count": 21,
   "outputs": [],
   "source": [],
   "metadata": {
    "collapsed": false
   }
  }
 ],
 "metadata": {
  "kernelspec": {
   "display_name": "Python 3",
   "language": "python",
   "name": "python3"
  },
  "language_info": {
   "codemirror_mode": {
    "name": "ipython",
    "version": 2
   },
   "file_extension": ".py",
   "mimetype": "text/x-python",
   "name": "python",
   "nbconvert_exporter": "python",
   "pygments_lexer": "ipython2",
   "version": "2.7.6"
  }
 },
 "nbformat": 4,
 "nbformat_minor": 0
}
