{
 "cells": [
  {
   "cell_type": "markdown",
   "source": [
    "In this notebook, we overview the usage of Pandas.\n",
    "\n",
    "# Load the dataset"
   ],
   "metadata": {
    "collapsed": false
   }
  },
  {
   "cell_type": "code",
   "execution_count": 1,
   "metadata": {
    "collapsed": true
   },
   "outputs": [
    {
     "data": {
      "text/plain": "           Timestamp Arbitration_ID  DLC                     Data   Class\n0       1.597708e+09            260    8  06 25 05 30 FF CF 71 55  Normal\n1       1.597708e+09            329    8  4A C5 7E 8C 31 2D 01 10  Normal\n2       1.597708e+09            38D    8  00 00 49 00 90 7F FE 01  Normal\n3       1.597708e+09            420    8  50 1E 00 C8 FC 4F 6A 00  Normal\n4       1.597708e+09            421    8  FE 07 00 FF E3 7F 00 52  Normal\n...              ...            ...  ...                      ...     ...\n179341  1.597708e+09            391    8  00 00 00 00 00 00 08 EB  Normal\n179342  1.597708e+09            260    8  06 39 1A 30 FF D1 A1 63  Normal\n179343  1.597708e+09            421    8  FE 07 00 FF E3 7F 00 9E  Normal\n179344  1.597708e+09            130    8  94 8E F0 81 00 00 0B AC  Normal\n179345  1.597708e+09            140    8  30 80 00 6F 20 00 0B 35  Normal\n\n[179346 rows x 5 columns]",
      "text/html": "<div>\n<style scoped>\n    .dataframe tbody tr th:only-of-type {\n        vertical-align: middle;\n    }\n\n    .dataframe tbody tr th {\n        vertical-align: top;\n    }\n\n    .dataframe thead th {\n        text-align: right;\n    }\n</style>\n<table border=\"1\" class=\"dataframe\">\n  <thead>\n    <tr style=\"text-align: right;\">\n      <th></th>\n      <th>Timestamp</th>\n      <th>Arbitration_ID</th>\n      <th>DLC</th>\n      <th>Data</th>\n      <th>Class</th>\n    </tr>\n  </thead>\n  <tbody>\n    <tr>\n      <th>0</th>\n      <td>1.597708e+09</td>\n      <td>260</td>\n      <td>8</td>\n      <td>06 25 05 30 FF CF 71 55</td>\n      <td>Normal</td>\n    </tr>\n    <tr>\n      <th>1</th>\n      <td>1.597708e+09</td>\n      <td>329</td>\n      <td>8</td>\n      <td>4A C5 7E 8C 31 2D 01 10</td>\n      <td>Normal</td>\n    </tr>\n    <tr>\n      <th>2</th>\n      <td>1.597708e+09</td>\n      <td>38D</td>\n      <td>8</td>\n      <td>00 00 49 00 90 7F FE 01</td>\n      <td>Normal</td>\n    </tr>\n    <tr>\n      <th>3</th>\n      <td>1.597708e+09</td>\n      <td>420</td>\n      <td>8</td>\n      <td>50 1E 00 C8 FC 4F 6A 00</td>\n      <td>Normal</td>\n    </tr>\n    <tr>\n      <th>4</th>\n      <td>1.597708e+09</td>\n      <td>421</td>\n      <td>8</td>\n      <td>FE 07 00 FF E3 7F 00 52</td>\n      <td>Normal</td>\n    </tr>\n    <tr>\n      <th>...</th>\n      <td>...</td>\n      <td>...</td>\n      <td>...</td>\n      <td>...</td>\n      <td>...</td>\n    </tr>\n    <tr>\n      <th>179341</th>\n      <td>1.597708e+09</td>\n      <td>391</td>\n      <td>8</td>\n      <td>00 00 00 00 00 00 08 EB</td>\n      <td>Normal</td>\n    </tr>\n    <tr>\n      <th>179342</th>\n      <td>1.597708e+09</td>\n      <td>260</td>\n      <td>8</td>\n      <td>06 39 1A 30 FF D1 A1 63</td>\n      <td>Normal</td>\n    </tr>\n    <tr>\n      <th>179343</th>\n      <td>1.597708e+09</td>\n      <td>421</td>\n      <td>8</td>\n      <td>FE 07 00 FF E3 7F 00 9E</td>\n      <td>Normal</td>\n    </tr>\n    <tr>\n      <th>179344</th>\n      <td>1.597708e+09</td>\n      <td>130</td>\n      <td>8</td>\n      <td>94 8E F0 81 00 00 0B AC</td>\n      <td>Normal</td>\n    </tr>\n    <tr>\n      <th>179345</th>\n      <td>1.597708e+09</td>\n      <td>140</td>\n      <td>8</td>\n      <td>30 80 00 6F 20 00 0B 35</td>\n      <td>Normal</td>\n    </tr>\n  </tbody>\n</table>\n<p>179346 rows × 5 columns</p>\n</div>"
     },
     "execution_count": 1,
     "metadata": {},
     "output_type": "execute_result"
    }
   ],
   "source": [
    "import pandas as pd\n",
    "\n",
    "df = pd.read_csv('0_Preliminary/0_Training/Pre_train_D_0.csv')\n",
    "df"
   ]
  },
  {
   "cell_type": "markdown",
   "source": [
    "# Pandas usage: how to access the data\n",
    "## Terms (Pandas class)\n",
    "- [DataFrame](https://pandas.pydata.org/docs/reference/api/pandas.DataFrame.html): a Pandas class representing a table (2D array)\n",
    "- [Series](https://pandas.pydata.org/docs/reference/api/pandas.Series.html): a Pandas class representing an 1D array\n",
    "\n",
    "### DataFrame\n",
    "- Case 1. Access a column: **`df[COL_IDX]`**, `df.loc[, COL_IDX]` -> It returns a *Series*.\n",
    "- Case 2. Access a row: **`df.loc[ROW_IDX]`**, `df.loc[ROW_IDX, ]`  -> It returns a *Series*.\n",
    "- Case 3: Access an element: `df.loc[ROW_IDX, COL_IDX]` -> It returns a *value*.\n",
    "\n",
    "\n",
    "### Series\n",
    "Just consider it a Python list: `series[IDX]`\n",
    "\n",
    "[Pandas user guide: Indexing and selecting data](https://pandas.pydata.org/docs/user_guide/indexing.html)"
   ],
   "metadata": {
    "collapsed": false
   }
  },
  {
   "cell_type": "code",
   "execution_count": 2,
   "outputs": [
    {
     "data": {
      "text/plain": "0         Normal\n1         Normal\n2         Normal\n3         Normal\n4         Normal\n           ...  \n179341    Normal\n179342    Normal\n179343    Normal\n179344    Normal\n179345    Normal\nName: Class, Length: 179346, dtype: object"
     },
     "execution_count": 2,
     "metadata": {},
     "output_type": "execute_result"
    }
   ],
   "source": [
    "df['Class']  # column"
   ],
   "metadata": {
    "collapsed": false
   }
  },
  {
   "cell_type": "code",
   "execution_count": 3,
   "outputs": [
    {
     "data": {
      "text/plain": "Timestamp                1597707827.05467\nArbitration_ID                        38D\nDLC                                     8\nData              00 00 49 00 90 7F FE 01\nClass                              Normal\nName: 2, dtype: object"
     },
     "execution_count": 3,
     "metadata": {},
     "output_type": "execute_result"
    }
   ],
   "source": [
    "df.loc[2]  # row"
   ],
   "metadata": {
    "collapsed": false
   }
  },
  {
   "cell_type": "code",
   "execution_count": 4,
   "outputs": [
    {
     "data": {
      "text/plain": "      Timestamp Arbitration_ID  DLC                     Data   Class\n2  1.597708e+09            38D    8  00 00 49 00 90 7F FE 01  Normal\n3  1.597708e+09            420    8  50 1E 00 C8 FC 4F 6A 00  Normal\n4  1.597708e+09            421    8  FE 07 00 FF E3 7F 00 52  Normal",
      "text/html": "<div>\n<style scoped>\n    .dataframe tbody tr th:only-of-type {\n        vertical-align: middle;\n    }\n\n    .dataframe tbody tr th {\n        vertical-align: top;\n    }\n\n    .dataframe thead th {\n        text-align: right;\n    }\n</style>\n<table border=\"1\" class=\"dataframe\">\n  <thead>\n    <tr style=\"text-align: right;\">\n      <th></th>\n      <th>Timestamp</th>\n      <th>Arbitration_ID</th>\n      <th>DLC</th>\n      <th>Data</th>\n      <th>Class</th>\n    </tr>\n  </thead>\n  <tbody>\n    <tr>\n      <th>2</th>\n      <td>1.597708e+09</td>\n      <td>38D</td>\n      <td>8</td>\n      <td>00 00 49 00 90 7F FE 01</td>\n      <td>Normal</td>\n    </tr>\n    <tr>\n      <th>3</th>\n      <td>1.597708e+09</td>\n      <td>420</td>\n      <td>8</td>\n      <td>50 1E 00 C8 FC 4F 6A 00</td>\n      <td>Normal</td>\n    </tr>\n    <tr>\n      <th>4</th>\n      <td>1.597708e+09</td>\n      <td>421</td>\n      <td>8</td>\n      <td>FE 07 00 FF E3 7F 00 52</td>\n      <td>Normal</td>\n    </tr>\n  </tbody>\n</table>\n</div>"
     },
     "execution_count": 4,
     "metadata": {},
     "output_type": "execute_result"
    }
   ],
   "source": [
    "df.loc[2:4]  # rows (slicing)"
   ],
   "metadata": {
    "collapsed": false
   }
  },
  {
   "cell_type": "code",
   "execution_count": 5,
   "outputs": [
    {
     "data": {
      "text/plain": "          Timestamp Arbitration_ID  DLC                     Data   Class\n2      1.597708e+09            38D    8  00 00 49 00 90 7F FE 01  Normal\n4      1.597708e+09            421    8  FE 07 00 FF E3 7F 00 52  Normal\n8      1.597708e+09            389    8  00 00 00 20 00 00 C2 00  Normal\n16     1.597708e+09            366    7     26 82 10 25 21 0B 01  Normal\n30000  1.597708e+09            164    4              00 08 1A B4  Normal",
      "text/html": "<div>\n<style scoped>\n    .dataframe tbody tr th:only-of-type {\n        vertical-align: middle;\n    }\n\n    .dataframe tbody tr th {\n        vertical-align: top;\n    }\n\n    .dataframe thead th {\n        text-align: right;\n    }\n</style>\n<table border=\"1\" class=\"dataframe\">\n  <thead>\n    <tr style=\"text-align: right;\">\n      <th></th>\n      <th>Timestamp</th>\n      <th>Arbitration_ID</th>\n      <th>DLC</th>\n      <th>Data</th>\n      <th>Class</th>\n    </tr>\n  </thead>\n  <tbody>\n    <tr>\n      <th>2</th>\n      <td>1.597708e+09</td>\n      <td>38D</td>\n      <td>8</td>\n      <td>00 00 49 00 90 7F FE 01</td>\n      <td>Normal</td>\n    </tr>\n    <tr>\n      <th>4</th>\n      <td>1.597708e+09</td>\n      <td>421</td>\n      <td>8</td>\n      <td>FE 07 00 FF E3 7F 00 52</td>\n      <td>Normal</td>\n    </tr>\n    <tr>\n      <th>8</th>\n      <td>1.597708e+09</td>\n      <td>389</td>\n      <td>8</td>\n      <td>00 00 00 20 00 00 C2 00</td>\n      <td>Normal</td>\n    </tr>\n    <tr>\n      <th>16</th>\n      <td>1.597708e+09</td>\n      <td>366</td>\n      <td>7</td>\n      <td>26 82 10 25 21 0B 01</td>\n      <td>Normal</td>\n    </tr>\n    <tr>\n      <th>30000</th>\n      <td>1.597708e+09</td>\n      <td>164</td>\n      <td>4</td>\n      <td>00 08 1A B4</td>\n      <td>Normal</td>\n    </tr>\n  </tbody>\n</table>\n</div>"
     },
     "execution_count": 5,
     "metadata": {},
     "output_type": "execute_result"
    }
   ],
   "source": [
    "df.loc[[2, 4, 8, 16, 30000]]  # rows (with specific indices)"
   ],
   "metadata": {
    "collapsed": false
   }
  },
  {
   "cell_type": "code",
   "execution_count": 6,
   "outputs": [
    {
     "data": {
      "text/plain": "'00 00 49 00 90 7F FE 01'"
     },
     "execution_count": 6,
     "metadata": {},
     "output_type": "execute_result"
    }
   ],
   "source": [
    "df.loc[2, 'Data']  # element"
   ],
   "metadata": {
    "collapsed": false
   }
  },
  {
   "cell_type": "code",
   "execution_count": 7,
   "outputs": [
    {
     "name": "stdout",
     "output_type": "stream",
     "text": [
      "00 00 49 00 90 7F FE 01\n",
      "00 00 49 00 90 7F FE 01\n",
      "00 00 49 00 90 7F FE 01\n"
     ]
    }
   ],
   "source": [
    "# three ways to access the element at row 2 and col `Data`\n",
    "print(df['Data'][2])\n",
    "print(df.loc[2]['Data'])\n",
    "print(df.loc[2, 'Data'])"
   ],
   "metadata": {
    "collapsed": false
   }
  },
  {
   "cell_type": "code",
   "execution_count": 8,
   "outputs": [
    {
     "data": {
      "text/plain": "(179346, 5)"
     },
     "execution_count": 8,
     "metadata": {},
     "output_type": "execute_result"
    }
   ],
   "source": [
    "df.shape  # the number of rows and columns"
   ],
   "metadata": {
    "collapsed": false
   }
  },
  {
   "cell_type": "markdown",
   "source": [
    "## Conditional indexing\n",
    "\n",
    "The code below works but do not evaluate row by row because it is inefficient.\n",
    "```python\n",
    "output = list()\n",
    "for rowidx, row in df.iterrows():\n",
    "    if row['DLC'] != 8:\n",
    "        output.append(row)\n",
    "\n",
    "len(output)\n",
    "```"
   ],
   "metadata": {
    "collapsed": false
   }
  },
  {
   "cell_type": "code",
   "execution_count": 9,
   "outputs": [
    {
     "data": {
      "text/plain": "0         False\n1         False\n2         False\n3         False\n4         False\n          ...  \n179341    False\n179342    False\n179343    False\n179344    False\n179345    False\nName: DLC, Length: 179346, dtype: bool"
     },
     "execution_count": 9,
     "metadata": {},
     "output_type": "execute_result"
    }
   ],
   "source": [
    "df['DLC'] != 8 # returns a series of booleans"
   ],
   "metadata": {
    "collapsed": false
   }
  },
  {
   "cell_type": "code",
   "execution_count": 10,
   "outputs": [
    {
     "data": {
      "text/plain": "           Timestamp Arbitration_ID  DLC                  Data   Class\n13      1.597708e+09            2B0    6     67 00 00 07 CA 5B  Normal\n14      1.597708e+09            164    4           00 08 1C FA  Normal\n16      1.597708e+09            366    7  26 82 10 25 21 0B 01  Normal\n22      1.597708e+09            453    5        00 88 90 00 6F  Normal\n30      1.597708e+09            4F1    4           40 1B 60 31  Normal\n...              ...            ...  ...                   ...     ...\n179317  1.597708e+09            485    4           02 00 00 00  Normal\n179323  1.597708e+09            164    4           00 08 0C 37  Normal\n179324  1.597708e+09            366    7  39 7A 11 39 1F 08 01  Normal\n179326  1.597708e+09            2B0    6     34 0D 22 07 F2 4A  Normal\n179332  1.597708e+09            453    5        00 88 8F 00 C0  Normal\n\n[34339 rows x 5 columns]",
      "text/html": "<div>\n<style scoped>\n    .dataframe tbody tr th:only-of-type {\n        vertical-align: middle;\n    }\n\n    .dataframe tbody tr th {\n        vertical-align: top;\n    }\n\n    .dataframe thead th {\n        text-align: right;\n    }\n</style>\n<table border=\"1\" class=\"dataframe\">\n  <thead>\n    <tr style=\"text-align: right;\">\n      <th></th>\n      <th>Timestamp</th>\n      <th>Arbitration_ID</th>\n      <th>DLC</th>\n      <th>Data</th>\n      <th>Class</th>\n    </tr>\n  </thead>\n  <tbody>\n    <tr>\n      <th>13</th>\n      <td>1.597708e+09</td>\n      <td>2B0</td>\n      <td>6</td>\n      <td>67 00 00 07 CA 5B</td>\n      <td>Normal</td>\n    </tr>\n    <tr>\n      <th>14</th>\n      <td>1.597708e+09</td>\n      <td>164</td>\n      <td>4</td>\n      <td>00 08 1C FA</td>\n      <td>Normal</td>\n    </tr>\n    <tr>\n      <th>16</th>\n      <td>1.597708e+09</td>\n      <td>366</td>\n      <td>7</td>\n      <td>26 82 10 25 21 0B 01</td>\n      <td>Normal</td>\n    </tr>\n    <tr>\n      <th>22</th>\n      <td>1.597708e+09</td>\n      <td>453</td>\n      <td>5</td>\n      <td>00 88 90 00 6F</td>\n      <td>Normal</td>\n    </tr>\n    <tr>\n      <th>30</th>\n      <td>1.597708e+09</td>\n      <td>4F1</td>\n      <td>4</td>\n      <td>40 1B 60 31</td>\n      <td>Normal</td>\n    </tr>\n    <tr>\n      <th>...</th>\n      <td>...</td>\n      <td>...</td>\n      <td>...</td>\n      <td>...</td>\n      <td>...</td>\n    </tr>\n    <tr>\n      <th>179317</th>\n      <td>1.597708e+09</td>\n      <td>485</td>\n      <td>4</td>\n      <td>02 00 00 00</td>\n      <td>Normal</td>\n    </tr>\n    <tr>\n      <th>179323</th>\n      <td>1.597708e+09</td>\n      <td>164</td>\n      <td>4</td>\n      <td>00 08 0C 37</td>\n      <td>Normal</td>\n    </tr>\n    <tr>\n      <th>179324</th>\n      <td>1.597708e+09</td>\n      <td>366</td>\n      <td>7</td>\n      <td>39 7A 11 39 1F 08 01</td>\n      <td>Normal</td>\n    </tr>\n    <tr>\n      <th>179326</th>\n      <td>1.597708e+09</td>\n      <td>2B0</td>\n      <td>6</td>\n      <td>34 0D 22 07 F2 4A</td>\n      <td>Normal</td>\n    </tr>\n    <tr>\n      <th>179332</th>\n      <td>1.597708e+09</td>\n      <td>453</td>\n      <td>5</td>\n      <td>00 88 8F 00 C0</td>\n      <td>Normal</td>\n    </tr>\n  </tbody>\n</table>\n<p>34339 rows × 5 columns</p>\n</div>"
     },
     "execution_count": 10,
     "metadata": {},
     "output_type": "execute_result"
    }
   ],
   "source": [
    "df2 = df[df['DLC'] != 8] # select rows by booleans\n",
    "df2"
   ],
   "metadata": {
    "collapsed": false
   }
  },
  {
   "cell_type": "code",
   "execution_count": 11,
   "outputs": [
    {
     "data": {
      "text/plain": "           Timestamp Arbitration_ID  DLC                  Data   Class\n13      1.597708e+09            2B0    6     67 00 00 07 CA 5B  Normal\n14      1.597708e+09            164    4           00 08 1C FA  Normal\n16      1.597708e+09            366    7  26 82 10 25 21 0B 01  Normal\n22      1.597708e+09            453    5        00 88 90 00 6F  Normal\n30      1.597708e+09            4F1    4           40 1B 60 31  Normal\n...              ...            ...  ...                   ...     ...\n179317  1.597708e+09            485    4           02 00 00 00  Normal\n179323  1.597708e+09            164    4           00 08 0C 37  Normal\n179324  1.597708e+09            366    7  39 7A 11 39 1F 08 01  Normal\n179326  1.597708e+09            2B0    6     34 0D 22 07 F2 4A  Normal\n179332  1.597708e+09            453    5        00 88 8F 00 C0  Normal\n\n[34339 rows x 5 columns]",
      "text/html": "<div>\n<style scoped>\n    .dataframe tbody tr th:only-of-type {\n        vertical-align: middle;\n    }\n\n    .dataframe tbody tr th {\n        vertical-align: top;\n    }\n\n    .dataframe thead th {\n        text-align: right;\n    }\n</style>\n<table border=\"1\" class=\"dataframe\">\n  <thead>\n    <tr style=\"text-align: right;\">\n      <th></th>\n      <th>Timestamp</th>\n      <th>Arbitration_ID</th>\n      <th>DLC</th>\n      <th>Data</th>\n      <th>Class</th>\n    </tr>\n  </thead>\n  <tbody>\n    <tr>\n      <th>13</th>\n      <td>1.597708e+09</td>\n      <td>2B0</td>\n      <td>6</td>\n      <td>67 00 00 07 CA 5B</td>\n      <td>Normal</td>\n    </tr>\n    <tr>\n      <th>14</th>\n      <td>1.597708e+09</td>\n      <td>164</td>\n      <td>4</td>\n      <td>00 08 1C FA</td>\n      <td>Normal</td>\n    </tr>\n    <tr>\n      <th>16</th>\n      <td>1.597708e+09</td>\n      <td>366</td>\n      <td>7</td>\n      <td>26 82 10 25 21 0B 01</td>\n      <td>Normal</td>\n    </tr>\n    <tr>\n      <th>22</th>\n      <td>1.597708e+09</td>\n      <td>453</td>\n      <td>5</td>\n      <td>00 88 90 00 6F</td>\n      <td>Normal</td>\n    </tr>\n    <tr>\n      <th>30</th>\n      <td>1.597708e+09</td>\n      <td>4F1</td>\n      <td>4</td>\n      <td>40 1B 60 31</td>\n      <td>Normal</td>\n    </tr>\n    <tr>\n      <th>...</th>\n      <td>...</td>\n      <td>...</td>\n      <td>...</td>\n      <td>...</td>\n      <td>...</td>\n    </tr>\n    <tr>\n      <th>179317</th>\n      <td>1.597708e+09</td>\n      <td>485</td>\n      <td>4</td>\n      <td>02 00 00 00</td>\n      <td>Normal</td>\n    </tr>\n    <tr>\n      <th>179323</th>\n      <td>1.597708e+09</td>\n      <td>164</td>\n      <td>4</td>\n      <td>00 08 0C 37</td>\n      <td>Normal</td>\n    </tr>\n    <tr>\n      <th>179324</th>\n      <td>1.597708e+09</td>\n      <td>366</td>\n      <td>7</td>\n      <td>39 7A 11 39 1F 08 01</td>\n      <td>Normal</td>\n    </tr>\n    <tr>\n      <th>179326</th>\n      <td>1.597708e+09</td>\n      <td>2B0</td>\n      <td>6</td>\n      <td>34 0D 22 07 F2 4A</td>\n      <td>Normal</td>\n    </tr>\n    <tr>\n      <th>179332</th>\n      <td>1.597708e+09</td>\n      <td>453</td>\n      <td>5</td>\n      <td>00 88 8F 00 C0</td>\n      <td>Normal</td>\n    </tr>\n  </tbody>\n</table>\n<p>34339 rows × 5 columns</p>\n</div>"
     },
     "execution_count": 11,
     "metadata": {},
     "output_type": "execute_result"
    }
   ],
   "source": [
    "df2 = df.query('DLC != 8') # df.query() -> another convenient way\n",
    "df2"
   ],
   "metadata": {
    "collapsed": false
   }
  },
  {
   "cell_type": "code",
   "execution_count": 12,
   "outputs": [
    {
     "data": {
      "text/plain": "           Timestamp Arbitration_ID  DLC               Data   Class\n13      1.597708e+09            2B0    6  67 00 00 07 CA 5B  Normal\n14      1.597708e+09            164    4        00 08 1C FA  Normal\n30      1.597708e+09            4F1    4        40 1B 60 31  Normal\n38      1.597708e+09            164    4        00 08 1E C0  Normal\n39      1.597708e+09            2B0    6  67 00 00 07 DB 8B  Normal\n...              ...            ...  ...                ...     ...\n179300  1.597708e+09            164    4        00 08 0A 79  Normal\n179302  1.597708e+09            2B0    6  41 0D 23 07 F1 8D  Normal\n179317  1.597708e+09            485    4        02 00 00 00  Normal\n179323  1.597708e+09            164    4        00 08 0C 37  Normal\n179326  1.597708e+09            2B0    6  34 0D 22 07 F2 4A  Normal\n\n[22843 rows x 5 columns]",
      "text/html": "<div>\n<style scoped>\n    .dataframe tbody tr th:only-of-type {\n        vertical-align: middle;\n    }\n\n    .dataframe tbody tr th {\n        vertical-align: top;\n    }\n\n    .dataframe thead th {\n        text-align: right;\n    }\n</style>\n<table border=\"1\" class=\"dataframe\">\n  <thead>\n    <tr style=\"text-align: right;\">\n      <th></th>\n      <th>Timestamp</th>\n      <th>Arbitration_ID</th>\n      <th>DLC</th>\n      <th>Data</th>\n      <th>Class</th>\n    </tr>\n  </thead>\n  <tbody>\n    <tr>\n      <th>13</th>\n      <td>1.597708e+09</td>\n      <td>2B0</td>\n      <td>6</td>\n      <td>67 00 00 07 CA 5B</td>\n      <td>Normal</td>\n    </tr>\n    <tr>\n      <th>14</th>\n      <td>1.597708e+09</td>\n      <td>164</td>\n      <td>4</td>\n      <td>00 08 1C FA</td>\n      <td>Normal</td>\n    </tr>\n    <tr>\n      <th>30</th>\n      <td>1.597708e+09</td>\n      <td>4F1</td>\n      <td>4</td>\n      <td>40 1B 60 31</td>\n      <td>Normal</td>\n    </tr>\n    <tr>\n      <th>38</th>\n      <td>1.597708e+09</td>\n      <td>164</td>\n      <td>4</td>\n      <td>00 08 1E C0</td>\n      <td>Normal</td>\n    </tr>\n    <tr>\n      <th>39</th>\n      <td>1.597708e+09</td>\n      <td>2B0</td>\n      <td>6</td>\n      <td>67 00 00 07 DB 8B</td>\n      <td>Normal</td>\n    </tr>\n    <tr>\n      <th>...</th>\n      <td>...</td>\n      <td>...</td>\n      <td>...</td>\n      <td>...</td>\n      <td>...</td>\n    </tr>\n    <tr>\n      <th>179300</th>\n      <td>1.597708e+09</td>\n      <td>164</td>\n      <td>4</td>\n      <td>00 08 0A 79</td>\n      <td>Normal</td>\n    </tr>\n    <tr>\n      <th>179302</th>\n      <td>1.597708e+09</td>\n      <td>2B0</td>\n      <td>6</td>\n      <td>41 0D 23 07 F1 8D</td>\n      <td>Normal</td>\n    </tr>\n    <tr>\n      <th>179317</th>\n      <td>1.597708e+09</td>\n      <td>485</td>\n      <td>4</td>\n      <td>02 00 00 00</td>\n      <td>Normal</td>\n    </tr>\n    <tr>\n      <th>179323</th>\n      <td>1.597708e+09</td>\n      <td>164</td>\n      <td>4</td>\n      <td>00 08 0C 37</td>\n      <td>Normal</td>\n    </tr>\n    <tr>\n      <th>179326</th>\n      <td>1.597708e+09</td>\n      <td>2B0</td>\n      <td>6</td>\n      <td>34 0D 22 07 F2 4A</td>\n      <td>Normal</td>\n    </tr>\n  </tbody>\n</table>\n<p>22843 rows × 5 columns</p>\n</div>"
     },
     "execution_count": 12,
     "metadata": {},
     "output_type": "execute_result"
    }
   ],
   "source": [
    "df2 = df.query('DLC in (4, 6)') # df.query() supports the python expressions.\n",
    "df2"
   ],
   "metadata": {
    "collapsed": false
   }
  },
  {
   "cell_type": "markdown",
   "source": [
    "### condition chaining"
   ],
   "metadata": {
    "collapsed": false
   }
  },
  {
   "cell_type": "code",
   "execution_count": 13,
   "outputs": [
    {
     "data": {
      "text/plain": "           Timestamp Arbitration_ID  DLC                     Data   Class\n280     1.597708e+09            391    8  00 00 00 00 00 00 08 EB  Normal\n1037    1.597708e+09            391    8  00 00 00 00 00 00 08 EB  Normal\n1809    1.597708e+09            391    8  00 00 00 00 00 00 08 EB  Normal\n2579    1.597708e+09            391    8  00 00 00 00 00 00 08 EB  Normal\n3346    1.597708e+09            391    8  00 00 00 00 00 00 08 EB  Normal\n...              ...            ...  ...                      ...     ...\n176274  1.597708e+09            391    8  00 00 00 00 00 00 08 EB  Normal\n177046  1.597708e+09            391    8  00 00 00 00 00 00 08 EB  Normal\n177810  1.597708e+09            391    8  00 00 00 00 00 00 08 EB  Normal\n178579  1.597708e+09            391    8  00 00 00 00 00 00 08 EB  Normal\n179341  1.597708e+09            391    8  00 00 00 00 00 00 08 EB  Normal\n\n[234 rows x 5 columns]",
      "text/html": "<div>\n<style scoped>\n    .dataframe tbody tr th:only-of-type {\n        vertical-align: middle;\n    }\n\n    .dataframe tbody tr th {\n        vertical-align: top;\n    }\n\n    .dataframe thead th {\n        text-align: right;\n    }\n</style>\n<table border=\"1\" class=\"dataframe\">\n  <thead>\n    <tr style=\"text-align: right;\">\n      <th></th>\n      <th>Timestamp</th>\n      <th>Arbitration_ID</th>\n      <th>DLC</th>\n      <th>Data</th>\n      <th>Class</th>\n    </tr>\n  </thead>\n  <tbody>\n    <tr>\n      <th>280</th>\n      <td>1.597708e+09</td>\n      <td>391</td>\n      <td>8</td>\n      <td>00 00 00 00 00 00 08 EB</td>\n      <td>Normal</td>\n    </tr>\n    <tr>\n      <th>1037</th>\n      <td>1.597708e+09</td>\n      <td>391</td>\n      <td>8</td>\n      <td>00 00 00 00 00 00 08 EB</td>\n      <td>Normal</td>\n    </tr>\n    <tr>\n      <th>1809</th>\n      <td>1.597708e+09</td>\n      <td>391</td>\n      <td>8</td>\n      <td>00 00 00 00 00 00 08 EB</td>\n      <td>Normal</td>\n    </tr>\n    <tr>\n      <th>2579</th>\n      <td>1.597708e+09</td>\n      <td>391</td>\n      <td>8</td>\n      <td>00 00 00 00 00 00 08 EB</td>\n      <td>Normal</td>\n    </tr>\n    <tr>\n      <th>3346</th>\n      <td>1.597708e+09</td>\n      <td>391</td>\n      <td>8</td>\n      <td>00 00 00 00 00 00 08 EB</td>\n      <td>Normal</td>\n    </tr>\n    <tr>\n      <th>...</th>\n      <td>...</td>\n      <td>...</td>\n      <td>...</td>\n      <td>...</td>\n      <td>...</td>\n    </tr>\n    <tr>\n      <th>176274</th>\n      <td>1.597708e+09</td>\n      <td>391</td>\n      <td>8</td>\n      <td>00 00 00 00 00 00 08 EB</td>\n      <td>Normal</td>\n    </tr>\n    <tr>\n      <th>177046</th>\n      <td>1.597708e+09</td>\n      <td>391</td>\n      <td>8</td>\n      <td>00 00 00 00 00 00 08 EB</td>\n      <td>Normal</td>\n    </tr>\n    <tr>\n      <th>177810</th>\n      <td>1.597708e+09</td>\n      <td>391</td>\n      <td>8</td>\n      <td>00 00 00 00 00 00 08 EB</td>\n      <td>Normal</td>\n    </tr>\n    <tr>\n      <th>178579</th>\n      <td>1.597708e+09</td>\n      <td>391</td>\n      <td>8</td>\n      <td>00 00 00 00 00 00 08 EB</td>\n      <td>Normal</td>\n    </tr>\n    <tr>\n      <th>179341</th>\n      <td>1.597708e+09</td>\n      <td>391</td>\n      <td>8</td>\n      <td>00 00 00 00 00 00 08 EB</td>\n      <td>Normal</td>\n    </tr>\n  </tbody>\n</table>\n<p>234 rows × 5 columns</p>\n</div>"
     },
     "execution_count": 13,
     "metadata": {},
     "output_type": "execute_result"
    }
   ],
   "source": [
    "condition1 = (df['Data'] == \"00 00 00 00 00 00 08 EB\")\n",
    "condition2 = (df['Timestamp'] >= 50)\n",
    "df3 = df[condition1 & condition2]\n",
    "# df3 = df.query('Data == \"00 00 00 00 00 00 08 EB\" and Timestamp >= 50')\n",
    "df3"
   ],
   "metadata": {
    "collapsed": false
   }
  },
  {
   "cell_type": "markdown",
   "source": [
    "# Making sure the integrity of dataset\n",
    "\n",
    "## Q1. Is there any missing values (also known as NA or NaN)?"
   ],
   "metadata": {
    "collapsed": false
   }
  },
  {
   "cell_type": "code",
   "execution_count": 14,
   "outputs": [
    {
     "data": {
      "text/plain": "Timestamp         False\nArbitration_ID    False\nDLC               False\nData              False\nClass             False\ndtype: bool"
     },
     "execution_count": 14,
     "metadata": {},
     "output_type": "execute_result"
    }
   ],
   "source": [
    "df.isna().any()"
   ],
   "metadata": {
    "collapsed": false
   }
  },
  {
   "cell_type": "markdown",
   "source": [
    "## Q2. Are the CAN messages properly sorted by timestamp?"
   ],
   "metadata": {
    "collapsed": false
   }
  },
  {
   "cell_type": "code",
   "execution_count": 15,
   "outputs": [
    {
     "name": "stdout",
     "output_type": "stream",
     "text": [
      "[Case 1] The dataset is sorted by timestamp.\n",
      "[Case 2] The dataset is sorted by timestamp.\n"
     ]
    }
   ],
   "source": [
    "# case 1. manual iteration\n",
    "for i in range(len(df['Timestamp']) - 1):\n",
    "    if not (df.loc[i + 1, 'Timestamp'] > df.loc[i, 'Timestamp']):\n",
    "        print('[Case 1] Something went wrong.')\n",
    "        break\n",
    "else:\n",
    "    print('[Case 1] The dataset is sorted by timestamp.')\n",
    "\n",
    "# case 2. Pandas API\n",
    "is_sorted = df['Timestamp'].is_monotonic_increasing\n",
    "if sorted:\n",
    "    print('[Case 2] The dataset is sorted by timestamp.')\n",
    "else:\n",
    "    print('[Case 2] Something went wrong.')"
   ],
   "metadata": {
    "collapsed": false
   }
  },
  {
   "cell_type": "markdown",
   "source": [
    "## Q3. Is data pre-processing necessary?\n",
    "\n",
    "check the data type"
   ],
   "metadata": {
    "collapsed": false
   }
  },
  {
   "cell_type": "code",
   "execution_count": 16,
   "outputs": [
    {
     "name": "stdout",
     "output_type": "stream",
     "text": [
      "<class 'pandas.core.frame.DataFrame'>\n",
      "RangeIndex: 179346 entries, 0 to 179345\n",
      "Data columns (total 5 columns):\n",
      " #   Column          Non-Null Count   Dtype  \n",
      "---  ------          --------------   -----  \n",
      " 0   Timestamp       179346 non-null  float64\n",
      " 1   Arbitration_ID  179346 non-null  object \n",
      " 2   DLC             179346 non-null  int64  \n",
      " 3   Data            179346 non-null  object \n",
      " 4   Class           179346 non-null  object \n",
      "dtypes: float64(1), int64(1), object(3)\n",
      "memory usage: 6.8+ MB\n"
     ]
    }
   ],
   "source": [
    "df.info()"
   ],
   "metadata": {
    "collapsed": false
   }
  },
  {
   "cell_type": "markdown",
   "source": [
    "Two problems\n",
    "1. `Timestamp` is not straightforward.\n",
    "2. `Arbitration_ID` was supposed to be represented as an integer. But the data type is string (object)."
   ],
   "metadata": {
    "collapsed": false
   }
  },
  {
   "cell_type": "markdown",
   "source": [
    "We will make two new timestamp fields\n",
    " - absolute time\n",
    " - monotime *starting with 0*"
   ],
   "metadata": {
    "collapsed": false
   }
  },
  {
   "cell_type": "code",
   "execution_count": 17,
   "outputs": [
    {
     "data": {
      "text/plain": "           Timestamp                    abstime   monotime\n0       1.597708e+09 2020-08-17 23:43:47.052591   0.000000\n1       1.597708e+09 2020-08-17 23:43:47.053980   0.001389\n2       1.597708e+09 2020-08-17 23:43:47.054670   0.002079\n3       1.597708e+09 2020-08-17 23:43:47.054904   0.002313\n4       1.597708e+09 2020-08-17 23:43:47.055140   0.002549\n...              ...                        ...        ...\n179341  1.597708e+09 2020-08-17 23:45:01.706675  74.654084\n179342  1.597708e+09 2020-08-17 23:45:01.706905  74.654314\n179343  1.597708e+09 2020-08-17 23:45:01.707144  74.654553\n179344  1.597708e+09 2020-08-17 23:45:01.707378  74.654787\n179345  1.597708e+09 2020-08-17 23:45:01.707643  74.655052\n\n[179346 rows x 3 columns]",
      "text/html": "<div>\n<style scoped>\n    .dataframe tbody tr th:only-of-type {\n        vertical-align: middle;\n    }\n\n    .dataframe tbody tr th {\n        vertical-align: top;\n    }\n\n    .dataframe thead th {\n        text-align: right;\n    }\n</style>\n<table border=\"1\" class=\"dataframe\">\n  <thead>\n    <tr style=\"text-align: right;\">\n      <th></th>\n      <th>Timestamp</th>\n      <th>abstime</th>\n      <th>monotime</th>\n    </tr>\n  </thead>\n  <tbody>\n    <tr>\n      <th>0</th>\n      <td>1.597708e+09</td>\n      <td>2020-08-17 23:43:47.052591</td>\n      <td>0.000000</td>\n    </tr>\n    <tr>\n      <th>1</th>\n      <td>1.597708e+09</td>\n      <td>2020-08-17 23:43:47.053980</td>\n      <td>0.001389</td>\n    </tr>\n    <tr>\n      <th>2</th>\n      <td>1.597708e+09</td>\n      <td>2020-08-17 23:43:47.054670</td>\n      <td>0.002079</td>\n    </tr>\n    <tr>\n      <th>3</th>\n      <td>1.597708e+09</td>\n      <td>2020-08-17 23:43:47.054904</td>\n      <td>0.002313</td>\n    </tr>\n    <tr>\n      <th>4</th>\n      <td>1.597708e+09</td>\n      <td>2020-08-17 23:43:47.055140</td>\n      <td>0.002549</td>\n    </tr>\n    <tr>\n      <th>...</th>\n      <td>...</td>\n      <td>...</td>\n      <td>...</td>\n    </tr>\n    <tr>\n      <th>179341</th>\n      <td>1.597708e+09</td>\n      <td>2020-08-17 23:45:01.706675</td>\n      <td>74.654084</td>\n    </tr>\n    <tr>\n      <th>179342</th>\n      <td>1.597708e+09</td>\n      <td>2020-08-17 23:45:01.706905</td>\n      <td>74.654314</td>\n    </tr>\n    <tr>\n      <th>179343</th>\n      <td>1.597708e+09</td>\n      <td>2020-08-17 23:45:01.707144</td>\n      <td>74.654553</td>\n    </tr>\n    <tr>\n      <th>179344</th>\n      <td>1.597708e+09</td>\n      <td>2020-08-17 23:45:01.707378</td>\n      <td>74.654787</td>\n    </tr>\n    <tr>\n      <th>179345</th>\n      <td>1.597708e+09</td>\n      <td>2020-08-17 23:45:01.707643</td>\n      <td>74.655052</td>\n    </tr>\n  </tbody>\n</table>\n<p>179346 rows × 3 columns</p>\n</div>"
     },
     "execution_count": 17,
     "metadata": {},
     "output_type": "execute_result"
    }
   ],
   "source": [
    "df['abstime'] = pd.to_datetime(df['Timestamp'], unit='s').round('us')\n",
    "df['monotime'] = df['Timestamp'] - df['Timestamp'].min()\n",
    "df[['Timestamp', 'abstime', 'monotime']]"
   ],
   "metadata": {
    "collapsed": false
   }
  },
  {
   "cell_type": "markdown",
   "source": [],
   "metadata": {
    "collapsed": false
   }
  },
  {
   "cell_type": "code",
   "execution_count": 18,
   "outputs": [
    {
     "data": {
      "text/plain": "       Arbitration_ID  aid_int\n0                 260      608\n1                 329      809\n2                 38D      909\n3                 420     1056\n4                 421     1057\n...               ...      ...\n179341            391      913\n179342            260      608\n179343            421     1057\n179344            130      304\n179345            140      320\n\n[179346 rows x 2 columns]",
      "text/html": "<div>\n<style scoped>\n    .dataframe tbody tr th:only-of-type {\n        vertical-align: middle;\n    }\n\n    .dataframe tbody tr th {\n        vertical-align: top;\n    }\n\n    .dataframe thead th {\n        text-align: right;\n    }\n</style>\n<table border=\"1\" class=\"dataframe\">\n  <thead>\n    <tr style=\"text-align: right;\">\n      <th></th>\n      <th>Arbitration_ID</th>\n      <th>aid_int</th>\n    </tr>\n  </thead>\n  <tbody>\n    <tr>\n      <th>0</th>\n      <td>260</td>\n      <td>608</td>\n    </tr>\n    <tr>\n      <th>1</th>\n      <td>329</td>\n      <td>809</td>\n    </tr>\n    <tr>\n      <th>2</th>\n      <td>38D</td>\n      <td>909</td>\n    </tr>\n    <tr>\n      <th>3</th>\n      <td>420</td>\n      <td>1056</td>\n    </tr>\n    <tr>\n      <th>4</th>\n      <td>421</td>\n      <td>1057</td>\n    </tr>\n    <tr>\n      <th>...</th>\n      <td>...</td>\n      <td>...</td>\n    </tr>\n    <tr>\n      <th>179341</th>\n      <td>391</td>\n      <td>913</td>\n    </tr>\n    <tr>\n      <th>179342</th>\n      <td>260</td>\n      <td>608</td>\n    </tr>\n    <tr>\n      <th>179343</th>\n      <td>421</td>\n      <td>1057</td>\n    </tr>\n    <tr>\n      <th>179344</th>\n      <td>130</td>\n      <td>304</td>\n    </tr>\n    <tr>\n      <th>179345</th>\n      <td>140</td>\n      <td>320</td>\n    </tr>\n  </tbody>\n</table>\n<p>179346 rows × 2 columns</p>\n</div>"
     },
     "execution_count": 18,
     "metadata": {},
     "output_type": "execute_result"
    }
   ],
   "source": [
    "def func_hexstr_to_int(value):\n",
    "    return int(value, 16)\n",
    "\n",
    "df['aid_int'] = df['Arbitration_ID'].map(func_hexstr_to_int)  #\n",
    "df[['Arbitration_ID', 'aid_int']]"
   ],
   "metadata": {
    "collapsed": false
   }
  },
  {
   "cell_type": "code",
   "execution_count": 19,
   "outputs": [
    {
     "data": {
      "text/plain": "(608, 809, 909)"
     },
     "execution_count": 19,
     "metadata": {},
     "output_type": "execute_result"
    }
   ],
   "source": [
    "0x260, 0x329, 0x38d"
   ],
   "metadata": {
    "collapsed": false
   }
  }
 ],
 "metadata": {
  "kernelspec": {
   "display_name": "Python 3",
   "language": "python",
   "name": "python3"
  },
  "language_info": {
   "codemirror_mode": {
    "name": "ipython",
    "version": 2
   },
   "file_extension": ".py",
   "mimetype": "text/x-python",
   "name": "python",
   "nbconvert_exporter": "python",
   "pygments_lexer": "ipython2",
   "version": "2.7.6"
  }
 },
 "nbformat": 4,
 "nbformat_minor": 0
}
